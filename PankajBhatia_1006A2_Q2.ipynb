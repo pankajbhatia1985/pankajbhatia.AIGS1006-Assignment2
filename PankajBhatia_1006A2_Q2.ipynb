{
  "nbformat": 4,
  "nbformat_minor": 0,
  "metadata": {
    "colab": {
      "provenance": []
    },
    "kernelspec": {
      "name": "python3",
      "display_name": "Python 3"
    },
    "language_info": {
      "name": "python"
    }
  },
  "cells": [
    {
      "cell_type": "code",
      "execution_count": 1,
      "metadata": {
        "id": "G-754LlHYXMd"
      },
      "outputs": [],
      "source": [
        "import tensorflow as tf\n",
        "from tensorflow.keras.layers import Dense\n",
        "import pandas as pd\n",
        "import numpy as np\n",
        "import matplotlib.pyplot as plt\n",
        "from sklearn.model_selection import train_test_split"
      ]
    },
    {
      "cell_type": "code",
      "source": [
        "testdata = pd.read_csv('testData.txt', sep=',')\n",
        "traindata = pd.read_csv('trainData.txt', sep=',')\n",
        "\n",
        "testdata.info()"
      ],
      "metadata": {
        "colab": {
          "base_uri": "https://localhost:8080/"
        },
        "id": "O1hRM_3cY3W0",
        "outputId": "638edee0-86d4-44c0-db11-13bec07108b3"
      },
      "execution_count": 2,
      "outputs": [
        {
          "output_type": "stream",
          "name": "stdout",
          "text": [
            "<class 'pandas.core.frame.DataFrame'>\n",
            "Int64Index: 9752 entries, 1 to 9752\n",
            "Data columns (total 7 columns):\n",
            " #   Column         Non-Null Count  Dtype  \n",
            "---  ------         --------------  -----  \n",
            " 0   date           9752 non-null   object \n",
            " 1   Temperature    9752 non-null   float64\n",
            " 2   Humidity       9752 non-null   float64\n",
            " 3   Light          9752 non-null   float64\n",
            " 4   CO2            9752 non-null   float64\n",
            " 5   HumidityRatio  9752 non-null   float64\n",
            " 6   Occupancy      9752 non-null   int64  \n",
            "dtypes: float64(5), int64(1), object(1)\n",
            "memory usage: 609.5+ KB\n"
          ]
        }
      ]
    },
    {
      "cell_type": "code",
      "source": [
        "traindata.info()"
      ],
      "metadata": {
        "colab": {
          "base_uri": "https://localhost:8080/"
        },
        "id": "UGo0pNLqY3e6",
        "outputId": "6252ecfd-3ddf-4609-e8b3-6715254ff7c1"
      },
      "execution_count": 3,
      "outputs": [
        {
          "output_type": "stream",
          "name": "stdout",
          "text": [
            "<class 'pandas.core.frame.DataFrame'>\n",
            "Int64Index: 8143 entries, 1 to 8143\n",
            "Data columns (total 7 columns):\n",
            " #   Column         Non-Null Count  Dtype  \n",
            "---  ------         --------------  -----  \n",
            " 0   date           8143 non-null   object \n",
            " 1   Temperature    8143 non-null   float64\n",
            " 2   Humidity       8143 non-null   float64\n",
            " 3   Light          8143 non-null   float64\n",
            " 4   CO2            8143 non-null   float64\n",
            " 5   HumidityRatio  8143 non-null   float64\n",
            " 6   Occupancy      8143 non-null   int64  \n",
            "dtypes: float64(5), int64(1), object(1)\n",
            "memory usage: 508.9+ KB\n"
          ]
        }
      ]
    },
    {
      "cell_type": "code",
      "source": [
        "X = traindata.iloc[:5000, 1:6]\n",
        "Y = testdata.iloc[:5000, -1:]\n",
        "\n",
        "train_x, test_x, train_y, test_y = train_test_split(X, Y, test_size=0.2, random_state=0)"
      ],
      "metadata": {
        "id": "1X3mV6eCY3pW"
      },
      "execution_count": 7,
      "outputs": []
    },
    {
      "cell_type": "code",
      "source": [
        "print(train_x.shape, train_y.shape, test_x.shape, test_y.shape)"
      ],
      "metadata": {
        "colab": {
          "base_uri": "https://localhost:8080/"
        },
        "id": "bV0HHZazY1dV",
        "outputId": "45333e19-1bf7-4db5-99a4-68d831d1f58a"
      },
      "execution_count": 8,
      "outputs": [
        {
          "output_type": "stream",
          "name": "stdout",
          "text": [
            "(4000, 5) (4000, 1) (1000, 5) (1000, 1)\n"
          ]
        }
      ]
    },
    {
      "cell_type": "code",
      "source": [
        "model = tf.keras.Sequential()\n",
        "model.add(Dense(16, activation='relu',input_shape=(5, ))) \n",
        "model.add(Dense(32, activation='softplus')) \n",
        "model.add(Dense(1, activation='sigmoid')) \n",
        "\n",
        "model.summary()"
      ],
      "metadata": {
        "colab": {
          "base_uri": "https://localhost:8080/"
        },
        "id": "Sso3Fb09Y1sq",
        "outputId": "41ec2b9b-613d-448a-df36-171d1cd9e701"
      },
      "execution_count": 9,
      "outputs": [
        {
          "output_type": "stream",
          "name": "stdout",
          "text": [
            "Model: \"sequential\"\n",
            "_________________________________________________________________\n",
            " Layer (type)                Output Shape              Param #   \n",
            "=================================================================\n",
            " dense (Dense)               (None, 16)                96        \n",
            "                                                                 \n",
            " dense_1 (Dense)             (None, 32)                544       \n",
            "                                                                 \n",
            " dense_2 (Dense)             (None, 1)                 33        \n",
            "                                                                 \n",
            "=================================================================\n",
            "Total params: 673\n",
            "Trainable params: 673\n",
            "Non-trainable params: 0\n",
            "_________________________________________________________________\n"
          ]
        }
      ]
    },
    {
      "cell_type": "code",
      "source": [
        "lossfunction = tf.keras.losses.BinaryCrossentropy()\n",
        "model.compile(optimizer= 'adam', loss= lossfunction, metrics=['accuracy'])"
      ],
      "metadata": {
        "id": "0zgliJxDY19w"
      },
      "execution_count": 10,
      "outputs": []
    },
    {
      "cell_type": "code",
      "source": [
        "fitmodel = model.fit(train_x, train_y, epochs=5, validation_split=0.3)"
      ],
      "metadata": {
        "colab": {
          "base_uri": "https://localhost:8080/"
        },
        "id": "ksTMT-mMY2K-",
        "outputId": "591b3658-cb5f-478a-e36e-b1df0c62430d"
      },
      "execution_count": 11,
      "outputs": [
        {
          "output_type": "stream",
          "name": "stdout",
          "text": [
            "Epoch 1/5\n",
            "88/88 [==============================] - 1s 5ms/step - loss: 7.0744 - accuracy: 0.7018 - val_loss: 0.6518 - val_accuracy: 0.7333\n",
            "Epoch 2/5\n",
            "88/88 [==============================] - 0s 3ms/step - loss: 0.6113 - accuracy: 0.7486 - val_loss: 0.5967 - val_accuracy: 0.7367\n",
            "Epoch 3/5\n",
            "88/88 [==============================] - 0s 3ms/step - loss: 0.5771 - accuracy: 0.7796 - val_loss: 0.5465 - val_accuracy: 0.7667\n",
            "Epoch 4/5\n",
            "88/88 [==============================] - 0s 3ms/step - loss: 0.5442 - accuracy: 0.7800 - val_loss: 0.6062 - val_accuracy: 0.7033\n",
            "Epoch 5/5\n",
            "88/88 [==============================] - 0s 3ms/step - loss: 0.5270 - accuracy: 0.8007 - val_loss: 0.5020 - val_accuracy: 0.8017\n"
          ]
        }
      ]
    },
    {
      "cell_type": "code",
      "source": [
        "training_loss, training_acc = model.evaluate(train_x, train_y)\n",
        "testing_loss, testing_acc = model.evaluate(test_x, test_y)"
      ],
      "metadata": {
        "colab": {
          "base_uri": "https://localhost:8080/"
        },
        "id": "ZT3l5wIxY2W5",
        "outputId": "40cd03ec-78c3-4b7e-85d3-e2b6bef46162"
      },
      "execution_count": 12,
      "outputs": [
        {
          "output_type": "stream",
          "name": "stdout",
          "text": [
            "125/125 [==============================] - 0s 2ms/step - loss: 0.4842 - accuracy: 0.8110\n",
            "32/32 [==============================] - 0s 2ms/step - loss: 0.5096 - accuracy: 0.8030\n"
          ]
        }
      ]
    },
    {
      "cell_type": "code",
      "source": [
        "pred = model.predict(test_x)\n",
        "test_pred = np.argmax(pred, axis = 1)\n",
        "confusion_matrix = tf.math.confusion_matrix(labels= test_y, predictions=test_pred)\n",
        "print(confusion_matrix)"
      ],
      "metadata": {
        "colab": {
          "base_uri": "https://localhost:8080/"
        },
        "id": "Akwif0qBY2h2",
        "outputId": "964370c6-2328-4e2b-9e3a-a9b0cf24785a"
      },
      "execution_count": 13,
      "outputs": [
        {
          "output_type": "stream",
          "name": "stdout",
          "text": [
            "32/32 [==============================] - 0s 4ms/step\n",
            "tf.Tensor(\n",
            "[[804   0]\n",
            " [196   0]], shape=(2, 2), dtype=int32)\n"
          ]
        }
      ]
    },
    {
      "cell_type": "code",
      "source": [
        "fitModel = model.fit(train_x, train_y, epochs = 5, validation_split = 0.3)\n",
        "\n",
        "\n",
        "plt.plot(fitModel.history['accuracy'])\n",
        "plt.plot(fitModel.history['val_accuracy'])\n",
        "plt.legend(['Training accuracy', 'Validation accuracy'])\n",
        "plt.title('Trianing and Validation Accuracies')\n",
        "plt.xlabel('Epoch#')\n",
        "plt.ylabel('Accuracy')"
      ],
      "metadata": {
        "colab": {
          "base_uri": "https://localhost:8080/",
          "height": 494
        },
        "id": "8QRDQvlhY2pO",
        "outputId": "b189f6b6-de04-4fd5-c6a8-489efb70e6b7"
      },
      "execution_count": 14,
      "outputs": [
        {
          "output_type": "stream",
          "name": "stdout",
          "text": [
            "Epoch 1/5\n",
            "88/88 [==============================] - 1s 7ms/step - loss: 0.5293 - accuracy: 0.8054 - val_loss: 0.4893 - val_accuracy: 0.8183\n",
            "Epoch 2/5\n",
            "88/88 [==============================] - 1s 6ms/step - loss: 0.4738 - accuracy: 0.8196 - val_loss: 0.6357 - val_accuracy: 0.7067\n",
            "Epoch 3/5\n",
            "88/88 [==============================] - 0s 5ms/step - loss: 0.4661 - accuracy: 0.8214 - val_loss: 0.4427 - val_accuracy: 0.8133\n",
            "Epoch 4/5\n",
            "88/88 [==============================] - 0s 5ms/step - loss: 0.4340 - accuracy: 0.8232 - val_loss: 0.4165 - val_accuracy: 0.8333\n",
            "Epoch 5/5\n",
            "88/88 [==============================] - 0s 5ms/step - loss: 0.4228 - accuracy: 0.8311 - val_loss: 0.4096 - val_accuracy: 0.8458\n"
          ]
        },
        {
          "output_type": "execute_result",
          "data": {
            "text/plain": [
              "Text(0, 0.5, 'Accuracy')"
            ]
          },
          "metadata": {},
          "execution_count": 14
        },
        {
          "output_type": "display_data",
          "data": {
            "text/plain": [
              "<Figure size 432x288 with 1 Axes>"
            ],
            "image/png": "[encoded data removed]"
          },
          "metadata": {
            "needs_background": "light"
          }
        }
      ]
    },
    {
      "cell_type": "code",
      "source": [
        "plt.plot(fitModel.history['loss'])\n",
        "plt.plot(fitModel.history['val_loss'])\n",
        "plt.legend(['Training loss', 'Validation loss'])\n",
        "plt.title('Trianing and Validation Losses')\n",
        "plt.xlabel('Epoch#')\n",
        "plt.ylabel('Loss')"
      ],
      "metadata": {
        "colab": {
          "base_uri": "https://localhost:8080/",
          "height": 313
        },
        "id": "xy-8I91pY2yW",
        "outputId": "ec7c9988-5cf0-4a6b-a034-3325d01b7cca"
      },
      "execution_count": 15,
      "outputs": [
        {
          "output_type": "execute_result",
          "data": {
            "text/plain": [
              "Text(0, 0.5, 'Loss')"
            ]
          },
          "metadata": {},
          "execution_count": 15
        },
        {
          "output_type": "display_data",
          "data": {
            "text/plain": [
              "<Figure size 432x288 with 1 Axes>"
            ],
            "image/png": "[encoded data removed]"
          },
          "metadata": {
            "needs_background": "light"
          }
        }
      ]
    },
    {
      "cell_type": "markdown",
      "source": [
        "c) This is a three layer model with accuracy 80%"
      ],
      "metadata": {
        "id": "QDYXlmtsaWjV"
      }
    },
    {
      "cell_type": "code",
      "source": [
        "test_predict = model.predict(test_x)\n",
        "test_predict_labels = np.argmax(test_predict, axis = 1)\n",
        "confusion_matrix = tf.math.confusion_matrix(labels = test_y, predictions = test_predict_labels)\n",
        "print('confusion Matrix\\n', confusion_matrix)"
      ],
      "metadata": {
        "colab": {
          "base_uri": "https://localhost:8080/"
        },
        "id": "cyxFJ7mIZnuR",
        "outputId": "d1e1ee25-54af-4001-ac91-11a69a56a2f0"
      },
      "execution_count": 16,
      "outputs": [
        {
          "output_type": "stream",
          "name": "stdout",
          "text": [
            "32/32 [==============================] - 0s 1ms/step\n",
            "confusion Matrix\n",
            " tf.Tensor(\n",
            "[[804   0]\n",
            " [196   0]], shape=(2, 2), dtype=int32)\n"
          ]
        }
      ]
    },
    {
      "cell_type": "code",
      "source": [
        "model2 = tf.keras.Sequential()\n",
        "model2.add(Dense(16, activation='relu',input_shape=(5, ))) \n",
        "model2.add(Dense(32, activation='softplus'))\n",
        "model2.add(Dense(32, activation='softplus')) \n",
        "model2.add(Dense(1, activation='sigmoid')) \n",
        "\n",
        "model2.summary()"
      ],
      "metadata": {
        "colab": {
          "base_uri": "https://localhost:8080/"
        },
        "id": "jZA-7TodZoWa",
        "outputId": "2336df4c-86af-4628-9bec-04ecf0b46451"
      },
      "execution_count": 17,
      "outputs": [
        {
          "output_type": "stream",
          "name": "stdout",
          "text": [
            "Model: \"sequential_1\"\n",
            "_________________________________________________________________\n",
            " Layer (type)                Output Shape              Param #   \n",
            "=================================================================\n",
            " dense_3 (Dense)             (None, 16)                96        \n",
            "                                                                 \n",
            " dense_4 (Dense)             (None, 32)                544       \n",
            "                                                                 \n",
            " dense_5 (Dense)             (None, 32)                1056      \n",
            "                                                                 \n",
            " dense_6 (Dense)             (None, 1)                 33        \n",
            "                                                                 \n",
            "=================================================================\n",
            "Total params: 1,729\n",
            "Trainable params: 1,729\n",
            "Non-trainable params: 0\n",
            "_________________________________________________________________\n"
          ]
        }
      ]
    },
    {
      "cell_type": "code",
      "source": [
        "lossfunction = tf.keras.losses.BinaryCrossentropy()\n",
        "model2.compile(optimizer= 'adam', loss= lossfunction, metrics=['accuracy'])"
      ],
      "metadata": {
        "id": "5f-dH0LYZojz"
      },
      "execution_count": 18,
      "outputs": []
    },
    {
      "cell_type": "code",
      "source": [
        "fitmodel = model2.fit(train_x, train_y, epochs=5, validation_split=0.3)"
      ],
      "metadata": {
        "colab": {
          "base_uri": "https://localhost:8080/"
        },
        "id": "cu1RWc2sZ0W8",
        "outputId": "2b69daf3-4fca-46d9-9fb5-f81bda12acd1"
      },
      "execution_count": 19,
      "outputs": [
        {
          "output_type": "stream",
          "name": "stdout",
          "text": [
            "Epoch 1/5\n",
            "88/88 [==============================] - 1s 5ms/step - loss: 7.3255 - accuracy: 0.6586 - val_loss: 0.6701 - val_accuracy: 0.7058\n",
            "Epoch 2/5\n",
            "88/88 [==============================] - 0s 3ms/step - loss: 0.6719 - accuracy: 0.7489 - val_loss: 0.9775 - val_accuracy: 0.7958\n",
            "Epoch 3/5\n",
            "88/88 [==============================] - 0s 3ms/step - loss: 0.5778 - accuracy: 0.7621 - val_loss: 0.5981 - val_accuracy: 0.7917\n",
            "Epoch 4/5\n",
            "88/88 [==============================] - 0s 3ms/step - loss: 0.5458 - accuracy: 0.7786 - val_loss: 0.4943 - val_accuracy: 0.7900\n",
            "Epoch 5/5\n",
            "88/88 [==============================] - 0s 3ms/step - loss: 0.5053 - accuracy: 0.7875 - val_loss: 0.5143 - val_accuracy: 0.7167\n"
          ]
        }
      ]
    },
    {
      "cell_type": "code",
      "source": [
        "training_loss, training_acc = model2.evaluate(train_x, train_y)\n",
        "testing_loss, testing_acc = model2.evaluate(test_x, test_y)"
      ],
      "metadata": {
        "colab": {
          "base_uri": "https://localhost:8080/"
        },
        "id": "MsWmUtBbZ0rR",
        "outputId": "b0dbf321-fe6c-4688-a744-21aeefa60b91"
      },
      "execution_count": 20,
      "outputs": [
        {
          "output_type": "stream",
          "name": "stdout",
          "text": [
            "125/125 [==============================] - 0s 2ms/step - loss: 0.5038 - accuracy: 0.7245\n",
            "32/32 [==============================] - 0s 2ms/step - loss: 0.5132 - accuracy: 0.7020\n"
          ]
        }
      ]
    },
    {
      "cell_type": "code",
      "source": [
        "pred = model2.predict(test_x)\n",
        "test_pred = np.argmax(pred, axis = 1)\n",
        "confusion_matrix = tf.math.confusion_matrix(labels= test_y, predictions=test_pred)\n",
        "print(confusion_matrix)"
      ],
      "metadata": {
        "colab": {
          "base_uri": "https://localhost:8080/"
        },
        "id": "PK5fcZ5nZ65O",
        "outputId": "632905d3-a4d5-48e2-f2ac-d57bd62192a0"
      },
      "execution_count": 21,
      "outputs": [
        {
          "output_type": "stream",
          "name": "stdout",
          "text": [
            "32/32 [==============================] - 0s 2ms/step\n",
            "tf.Tensor(\n",
            "[[804   0]\n",
            " [196   0]], shape=(2, 2), dtype=int32)\n"
          ]
        }
      ]
    },
    {
      "cell_type": "code",
      "source": [
        "fitModel = model2.fit(train_x, train_y, epochs = 5, validation_split = 0.3)\n",
        "\n",
        "\n",
        "plt.plot(fitModel.history['accuracy'])\n",
        "plt.plot(fitModel.history['val_accuracy'])\n",
        "plt.legend(['Training accuracy', 'Validation accuracy'])\n",
        "plt.title('Trianing and Validation Accuracies')\n",
        "plt.xlabel('Epoch#')\n",
        "plt.ylabel('Accuracy')"
      ],
      "metadata": {
        "colab": {
          "base_uri": "https://localhost:8080/",
          "height": 494
        },
        "id": "H62ABTtVZ7Fl",
        "outputId": "2194a4a3-151c-4742-ab7b-64d1745e176b"
      },
      "execution_count": 22,
      "outputs": [
        {
          "output_type": "stream",
          "name": "stdout",
          "text": [
            "Epoch 1/5\n",
            "88/88 [==============================] - 0s 4ms/step - loss: 0.5206 - accuracy: 0.7893 - val_loss: 0.4635 - val_accuracy: 0.8075\n",
            "Epoch 2/5\n",
            "88/88 [==============================] - 0s 3ms/step - loss: 0.5225 - accuracy: 0.7896 - val_loss: 0.7795 - val_accuracy: 0.8075\n",
            "Epoch 3/5\n",
            "88/88 [==============================] - 0s 4ms/step - loss: 0.4832 - accuracy: 0.8004 - val_loss: 0.5060 - val_accuracy: 0.8075\n",
            "Epoch 4/5\n",
            "88/88 [==============================] - 0s 3ms/step - loss: 0.4748 - accuracy: 0.8021 - val_loss: 0.4645 - val_accuracy: 0.8058\n",
            "Epoch 5/5\n",
            "88/88 [==============================] - 0s 3ms/step - loss: 0.4661 - accuracy: 0.8011 - val_loss: 0.4278 - val_accuracy: 0.8133\n"
          ]
        },
        {
          "output_type": "execute_result",
          "data": {
            "text/plain": [
              "Text(0, 0.5, 'Accuracy')"
            ]
          },
          "metadata": {},
          "execution_count": 22
        },
        {
          "output_type": "display_data",
          "data": {
            "text/plain": [
              "<Figure size 432x288 with 1 Axes>"
            ],
            "image/png": "[encoded data removed]"
          },
          "metadata": {
            "needs_background": "light"
          }
        }
      ]
    },
    {
      "cell_type": "code",
      "source": [
        "plt.plot(fitModel.history['loss'])\n",
        "plt.plot(fitModel.history['val_loss'])\n",
        "plt.legend(['Training loss', 'Validation loss'])\n",
        "plt.title('Trianing and Validation Losses')\n",
        "plt.xlabel('Epoch#')\n",
        "plt.ylabel('Loss')"
      ],
      "metadata": {
        "colab": {
          "base_uri": "https://localhost:8080/",
          "height": 313
        },
        "id": "aLGikz9DZ7VH",
        "outputId": "3a72e358-f34b-47a0-bb77-fec7252ae016"
      },
      "execution_count": 23,
      "outputs": [
        {
          "output_type": "execute_result",
          "data": {
            "text/plain": [
              "Text(0, 0.5, 'Loss')"
            ]
          },
          "metadata": {},
          "execution_count": 23
        },
        {
          "output_type": "display_data",
          "data": {
            "text/plain": [
              "<Figure size 432x288 with 1 Axes>"
            ],
            "image/png": "[encoded data removed]"
          },
          "metadata": {
            "needs_background": "light"
          }
        }
      ]
    }
  ]
}